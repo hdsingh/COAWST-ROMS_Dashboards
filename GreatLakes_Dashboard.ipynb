{
 "cells": [
  {
   "cell_type": "markdown",
   "metadata": {},
   "source": [
    "# Great Lakes Models Dashboard\n",
    "Visualizing ocean model data using the [pyviz](pyviz.org) tools. "
   ]
  },
  {
   "cell_type": "code",
   "execution_count": null,
   "metadata": {
    "ExecuteTime": {
     "end_time": "2019-04-10T02:40:18.221021Z",
     "start_time": "2019-04-10T02:40:17.796934Z"
    }
   },
   "outputs": [],
   "source": [
    "import xarray as xr"
   ]
  },
  {
   "cell_type": "code",
   "execution_count": null,
   "metadata": {
    "ExecuteTime": {
     "end_time": "2019-04-10T02:40:25.502883Z",
     "start_time": "2019-04-10T02:40:18.225041Z"
    }
   },
   "outputs": [],
   "source": [
    "%%time\n",
    "#url = 'https://opendap.co-ops.nos.noaa.gov/thredds/dodsC/LOOFS/fmrc/Aggregated_7_day_LOOFS_Fields_Forecast_best.ncd'\n",
    "url = 'http://opendap.co-ops.nos.noaa.gov/thredds/dodsC/NOAA/LOOFS/MODELS/201903/glofs.loofs.fields.forecast.20190320.t06z.nc'\n",
    "ds = xr.open_dataset(url)"
   ]
  },
  {
   "cell_type": "markdown",
   "metadata": {},
   "source": [
    "Find all the data variables that depend on time (and are not time `bounds`)"
   ]
  },
  {
   "cell_type": "code",
   "execution_count": null,
   "metadata": {
    "ExecuteTime": {
     "end_time": "2019-04-10T02:40:25.527135Z",
     "start_time": "2019-04-10T02:40:25.506310Z"
    }
   },
   "outputs": [],
   "source": [
    "ds['temp']"
   ]
  },
  {
   "cell_type": "code",
   "execution_count": null,
   "metadata": {
    "ExecuteTime": {
     "end_time": "2019-04-10T02:40:25.537140Z",
     "start_time": "2019-04-10T02:40:25.530745Z"
    }
   },
   "outputs": [],
   "source": [
    "ds = ds.set_coords(names=['lon','lat'])"
   ]
  },
  {
   "cell_type": "code",
   "execution_count": null,
   "metadata": {
    "ExecuteTime": {
     "end_time": "2019-04-10T02:40:25.546708Z",
     "start_time": "2019-04-10T02:40:25.539468Z"
    }
   },
   "outputs": [],
   "source": [
    "rho_vars = []\n",
    "for var in ds.data_vars:\n",
    "    if len(ds[var].dims) > 0:\n",
    "        if 'time' in ds[var].dims[0] and (not 'validtime' in var) and ('nx' in ds[var].dims[-1]):\n",
    "            rho_vars.append(var)"
   ]
  },
  {
   "cell_type": "code",
   "execution_count": null,
   "metadata": {
    "ExecuteTime": {
     "end_time": "2019-04-10T02:40:25.554571Z",
     "start_time": "2019-04-10T02:40:25.550580Z"
    }
   },
   "outputs": [],
   "source": [
    "rho_vars"
   ]
  },
  {
   "cell_type": "markdown",
   "metadata": {},
   "source": [
    "Import the [pyviz](http://pyviz.org) tools we need"
   ]
  },
  {
   "cell_type": "code",
   "execution_count": null,
   "metadata": {
    "ExecuteTime": {
     "end_time": "2019-04-10T02:40:28.071692Z",
     "start_time": "2019-04-10T02:40:25.561473Z"
    }
   },
   "outputs": [],
   "source": [
    "from cartopy import crs as ccrs\n",
    "import hvplot.xarray\n",
    "import holoviews as hv\n",
    "from geoviews import tile_sources as gvts\n",
    "import panel as pn\n",
    "from holoviews import streams\n",
    "import numpy as np"
   ]
  },
  {
   "cell_type": "markdown",
   "metadata": {},
   "source": [
    "Create widget for variable selection"
   ]
  },
  {
   "cell_type": "code",
   "execution_count": null,
   "metadata": {
    "ExecuteTime": {
     "end_time": "2019-04-10T02:40:28.082708Z",
     "start_time": "2019-04-10T02:40:28.078163Z"
    }
   },
   "outputs": [],
   "source": [
    "var_select = pn.widgets.Select(name='Model Variables:', options=rho_vars, \n",
    "                               value='temp')"
   ]
  },
  {
   "cell_type": "markdown",
   "metadata": {},
   "source": [
    "Create widget for basemap selection"
   ]
  },
  {
   "cell_type": "code",
   "execution_count": null,
   "metadata": {
    "ExecuteTime": {
     "end_time": "2019-04-10T02:40:28.097287Z",
     "start_time": "2019-04-10T02:40:28.088723Z"
    }
   },
   "outputs": [],
   "source": [
    "base_map_select = pn.widgets.Select(name='Basemap:', options=gvts.tile_sources, value=gvts.OSM)                                                    "
   ]
  },
  {
   "cell_type": "markdown",
   "metadata": {
    "slideshow": {
     "slide_type": "slide"
    }
   },
   "source": [
    "The `plot` function below creates the `hvplot` panel layout object.  We specify a basemap, pick the `quadmesh` plot type for the selected variable, and indicate we want to `rasterize` the plot so that we can render massive meshes in the browser. We also specify the `groupby` parameter as the list of dimensions that remains after we remove Y and X: `ds[var].dims[:-2]`, which automatically handles variables with either dimensions [T, Y, X] or [T, Z, Y, X].  We also specify which `bokeh` controls we want to be active by default:  the `wheel_zoom` and `pan` controls.\n",
    "\n",
    "We also change the default slider to a selection widget for the `time` dimension so that specific times are easy to select.  See https://stackoverflow.com/a/54912917/2005869"
   ]
  },
  {
   "cell_type": "code",
   "execution_count": null,
   "metadata": {
    "ExecuteTime": {
     "end_time": "2019-04-10T02:40:28.105971Z",
     "start_time": "2019-04-10T02:40:28.100232Z"
    }
   },
   "outputs": [],
   "source": [
    "crs = ccrs.PlateCarree()"
   ]
  },
  {
   "cell_type": "markdown",
   "metadata": {},
   "source": [
    "Create a stream to get location of tap"
   ]
  },
  {
   "cell_type": "code",
   "execution_count": null,
   "metadata": {
    "ExecuteTime": {
     "end_time": "2019-04-10T02:40:28.110760Z",
     "start_time": "2019-04-10T02:40:28.108395Z"
    }
   },
   "outputs": [],
   "source": [
    "tap_mesh = streams.Tap(x = 1,y = 1)"
   ]
  },
  {
   "cell_type": "code",
   "execution_count": null,
   "metadata": {
    "ExecuteTime": {
     "end_time": "2019-04-10T02:40:28.121115Z",
     "start_time": "2019-04-10T02:40:28.113078Z"
    }
   },
   "outputs": [],
   "source": [
    "def plot(var=None, base_map=None):\n",
    "    base_map = base_map or base_map_select.value\n",
    "    var = var or var_select.value\n",
    "    mesh = ds[var][-24:,:,:].hvplot.quadmesh(x='lon', y='lat', rasterize=True, title=var,\n",
    "                                    width=600, height=400, crs=crs,\n",
    "                                    groupby=list(ds[var].dims[:-2]), cmap='jet')\n",
    "    \n",
    "    tap_mesh.source = mesh # Provide source to the tap stream\n",
    "    \n",
    "    overlay = (base_map * mesh.opts(alpha=0.7)).opts(active_tools=['wheel_zoom', 'pan'])\n",
    "    widgets = {dim: pn.widgets.Select for dim in ds[var].dims[:-2]}\n",
    "    return pn.pane.HoloViews(overlay, widgets=widgets).layout"
   ]
  },
  {
   "cell_type": "code",
   "execution_count": null,
   "metadata": {
    "ExecuteTime": {
     "end_time": "2019-04-10T02:40:28.127379Z",
     "start_time": "2019-04-10T02:40:28.123980Z"
    }
   },
   "outputs": [],
   "source": [
    "def on_var_select(event):\n",
    "    var = event.obj.value\n",
    "    dashboard[-1] = plot(var=var)"
   ]
  },
  {
   "cell_type": "code",
   "execution_count": null,
   "metadata": {
    "ExecuteTime": {
     "end_time": "2019-04-10T02:40:28.132478Z",
     "start_time": "2019-04-10T02:40:28.129596Z"
    }
   },
   "outputs": [],
   "source": [
    "def on_base_map_select(event):\n",
    "    base_map = event.obj.value\n",
    "    dashboard[-1] = plot(base_map=base_map)"
   ]
  },
  {
   "cell_type": "markdown",
   "metadata": {},
   "source": [
    "The following function converts `lat lon` to `nx ny` for selection of data points from dataset. It finds closest `nx ny` for selected `lat lon` on the map.\n",
    "\n",
    "The index closest to the clicked point is the point with the minimum distance. Also a unit of latitude only equals a unit of longitude near the equator so we can apply an average factor `ds.lat.mean()`. The formula used below is for simplification and speed until we have a situation that demands something better. "
   ]
  },
  {
   "cell_type": "code",
   "execution_count": null,
   "metadata": {
    "ExecuteTime": {
     "end_time": "2019-04-10T02:40:28.142334Z",
     "start_time": "2019-04-10T02:40:28.136571Z"
    }
   },
   "outputs": [],
   "source": [
    "def create_time_series(x,y):\n",
    "    sel_lat = y \n",
    "    sel_lon = x \n",
    "\n",
    "    lat_mean=ds.lat.mean()\n",
    "    a = (ds.lat-sel_lat)**2 + ((ds.lon-sel_lon)*np.cos(lat_mean))**2\n",
    "    \n",
    "    i,j = np.unravel_index(a.argmin(),a.shape)\n",
    "\n",
    "    time_series = ds.sel(nx =j,ny = i,sigma = 0.0)\n",
    "    return time_series[var_select.value].hvplot()"
   ]
  },
  {
   "cell_type": "code",
   "execution_count": null,
   "metadata": {
    "ExecuteTime": {
     "end_time": "2019-04-10T02:40:28.150840Z",
     "start_time": "2019-04-10T02:40:28.146740Z"
    }
   },
   "outputs": [],
   "source": [
    "var_select.param.watch(on_var_select, parameter_names=['value'])\n",
    "base_map_select.param.watch(on_base_map_select, parameter_names=['value']);"
   ]
  },
  {
   "cell_type": "markdown",
   "metadata": {},
   "source": [
    "A dynamic map for time series plotting"
   ]
  },
  {
   "cell_type": "code",
   "execution_count": null,
   "metadata": {
    "ExecuteTime": {
     "end_time": "2019-04-10T02:40:28.158770Z",
     "start_time": "2019-04-10T02:40:28.154647Z"
    }
   },
   "outputs": [],
   "source": [
    "ts_map = hv.DynamicMap(lambda x,y: create_time_series(x,y), streams=[tap_mesh])"
   ]
  },
  {
   "cell_type": "code",
   "execution_count": null,
   "metadata": {
    "ExecuteTime": {
     "end_time": "2019-04-10T02:40:28.188570Z",
     "start_time": "2019-04-10T02:40:28.162150Z"
    }
   },
   "outputs": [],
   "source": [
    "dashboard = pn.Column(var_select, base_map_select, plot(var_select.value))"
   ]
  },
  {
   "cell_type": "code",
   "execution_count": null,
   "metadata": {
    "ExecuteTime": {
     "end_time": "2019-04-10T02:40:32.419790Z",
     "start_time": "2019-04-10T02:40:28.191880Z"
    },
    "scrolled": false
   },
   "outputs": [],
   "source": [
    "dashboard"
   ]
  },
  {
   "cell_type": "code",
   "execution_count": null,
   "metadata": {
    "ExecuteTime": {
     "end_time": "2019-04-10T02:40:37.280667Z",
     "start_time": "2019-04-10T02:40:32.423621Z"
    }
   },
   "outputs": [],
   "source": [
    "var_select.value = 'air_v' "
   ]
  },
  {
   "cell_type": "code",
   "execution_count": null,
   "metadata": {
    "ExecuteTime": {
     "end_time": "2019-04-10T02:40:38.593816Z",
     "start_time": "2019-04-10T02:40:37.283443Z"
    },
    "scrolled": true
   },
   "outputs": [],
   "source": [
    "ts_map "
   ]
  },
  {
   "cell_type": "markdown",
   "metadata": {},
   "source": [
    "Tap anywhere on the mesh to get a time series map"
   ]
  }
 ],
 "metadata": {
  "kernelspec": {
   "display_name": "Python 3",
   "language": "python",
   "name": "python3"
  },
  "language_info": {
   "codemirror_mode": {
    "name": "ipython",
    "version": 3
   },
   "file_extension": ".py",
   "mimetype": "text/x-python",
   "name": "python",
   "nbconvert_exporter": "python",
   "pygments_lexer": "ipython3",
   "version": "3.7.2"
  },
  "widgets": {
   "application/vnd.jupyter.widget-state+json": {
    "state": {},
    "version_major": 2,
    "version_minor": 0
   }
  }
 },
 "nbformat": 4,
 "nbformat_minor": 2
}
