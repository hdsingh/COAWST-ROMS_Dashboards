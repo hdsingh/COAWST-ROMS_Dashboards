{
 "cells": [
  {
   "cell_type": "markdown",
   "metadata": {},
   "source": [
    "# COAWST Simple Dashboard\n",
    "The COAWST Forecast is the only coupled ocean, atmosphere, wave and sediment transport model. Here we investigate the gridded COAWST forecast data products from [USGS Woods Hole THREDDS server](https://gamone.whoi.edu/thredds) and visualizing the data using the [pyviz](pyviz.org) tools. "
   ]
  },
  {
   "cell_type": "code",
   "execution_count": null,
   "metadata": {},
   "outputs": [],
   "source": [
    "import xarray as xr"
   ]
  },
  {
   "cell_type": "code",
   "execution_count": null,
   "metadata": {},
   "outputs": [],
   "source": [
    "ds = xr.open_dataset('http://gamone.whoi.edu/thredds/dodsC/coawst_4/use/fmrc/coawst_4_use_best.ncd')"
   ]
  },
  {
   "cell_type": "markdown",
   "metadata": {},
   "source": [
    "Import the [pyviz](http://pyviz.org) tools we need"
   ]
  },
  {
   "cell_type": "code",
   "execution_count": null,
   "metadata": {},
   "outputs": [],
   "source": [
    "from cartopy import crs as ccrs\n",
    "from geoviews import tile_sources as gvts\n",
    "import hvplot.xarray\n",
    "import panel as pn"
   ]
  },
  {
   "cell_type": "markdown",
   "metadata": {},
   "source": [
    "Specify the base map and projection"
   ]
  },
  {
   "cell_type": "code",
   "execution_count": null,
   "metadata": {},
   "outputs": [],
   "source": [
    "base_map = gvts.EsriImagery\n",
    "crs = ccrs.PlateCarree()"
   ]
  },
  {
   "cell_type": "markdown",
   "metadata": {},
   "source": [
    "Explore 3D (time,lat,lon) variables"
   ]
  },
  {
   "cell_type": "code",
   "execution_count": null,
   "metadata": {},
   "outputs": [],
   "source": [
    "var = 'Hwave'\n",
    "title = f'{ds[var].long_name}: {ds[var].units}'\n",
    "mesh = ds[var][-24:,:].hvplot.quadmesh(x='lon_rho',y='lat_rho',crs=crs,\n",
    "                           rasterize=True,groupby='time',width=600,height=400)\n",
    "overlay = (base_map * mesh).opts(active_tools=['wheel_zoom', 'pan'])\n",
    "widgets = {ds[var].dims[0]: pn.widgets.Select}\n",
    "dashboard = pn.holoviews.HoloViews(overlay, widgets=widgets).layout"
   ]
  },
  {
   "cell_type": "code",
   "execution_count": null,
   "metadata": {},
   "outputs": [],
   "source": [
    "dashboard"
   ]
  },
  {
   "cell_type": "markdown",
   "metadata": {},
   "source": [
    "Explore 4D (time,layer,lat,lon) variables"
   ]
  },
  {
   "cell_type": "code",
   "execution_count": null,
   "metadata": {},
   "outputs": [],
   "source": [
    "var = 'temp'\n",
    "title = f'{ds[var].long_name}: {ds[var].units}'\n",
    "mesh = ds[var][-24:,:].hvplot.quadmesh(x='lon_rho',y='lat_rho',crs=crs,title=title,cmap='jet',\n",
    "                           rasterize=True,groupby=['time','s_rho'],width=600,height=400)\n",
    "overlay = (gvts.EsriImagery * mesh).opts(active_tools=['wheel_zoom', 'pan'])\n",
    "widgets = {'time': pn.widgets.Select, 's_rho': pn.widgets.Select}\n",
    "dashboard = pn.holoviews.HoloViews(overlay, widgets=widgets).layout"
   ]
  },
  {
   "cell_type": "markdown",
   "metadata": {},
   "source": [
    "We use `.servable()` below not only to display the panel object, but to makes the panel servable outside the notebook via:  `panel serve COAWST_Simple_Dashboard.ipynb`"
   ]
  },
  {
   "cell_type": "code",
   "execution_count": null,
   "metadata": {},
   "outputs": [],
   "source": [
    "dashboard.servable()"
   ]
  }
 ],
 "metadata": {
  "kernelspec": {
   "display_name": "Python 3",
   "language": "python",
   "name": "python3"
  },
  "language_info": {
   "codemirror_mode": {
    "name": "ipython",
    "version": 3
   },
   "file_extension": ".py",
   "mimetype": "text/x-python",
   "name": "python",
   "nbconvert_exporter": "python",
   "pygments_lexer": "ipython3",
   "version": "3.6.7"
  },
  "widgets": {
   "application/vnd.jupyter.widget-state+json": {
    "state": {},
    "version_major": 2,
    "version_minor": 0
   }
  }
 },
 "nbformat": 4,
 "nbformat_minor": 2
}
